{
  "nbformat": 4,
  "nbformat_minor": 0,
  "metadata": {
    "colab": {
      "provenance": [],
      "include_colab_link": true
    },
    "kernelspec": {
      "name": "python3",
      "display_name": "Python 3"
    },
    "language_info": {
      "name": "python"
    }
  },
  "cells": [
    {
      "cell_type": "markdown",
      "metadata": {
        "id": "view-in-github",
        "colab_type": "text"
      },
      "source": [
        "<a href=\"https://colab.research.google.com/github/Hominhkhang/Hominhkhang/blob/main/quituyentinh.ipynb\" target=\"_parent\"><img src=\"https://colab.research.google.com/assets/colab-badge.svg\" alt=\"Open In Colab\"/></a>"
      ]
    },
    {
      "cell_type": "code",
      "execution_count": null,
      "metadata": {
        "id": "p1GWnozGXEIg"
      },
      "outputs": [],
      "source": [
        "# Import thư viện:\n",
        "import pandas as pd\n",
        "import numpy as np\n",
        "import matplotlib.pyplot as plt\n",
        "from sklearn import linear_model\n"
      ]
    },
    {
      "cell_type": "code",
      "source": [
        "from google.colab import drive\n",
        "drive.mount('/content/drive')\n"
      ],
      "metadata": {
        "colab": {
          "base_uri": "https://localhost:8080/"
        },
        "id": "dX__rtrOdXbj",
        "outputId": "f455e006-bca5-4d04-9fc5-7785902c3d45"
      },
      "execution_count": null,
      "outputs": [
        {
          "output_type": "stream",
          "name": "stdout",
          "text": [
            "Mounted at /content/drive\n"
          ]
        }
      ]
    },
    {
      "cell_type": "code",
      "source": [
        "import pandas as pd\n",
        "\n",
        "# Dữ liệu\n",
        "data = {\n",
        "    'area': [2700, 2800, 3000, 3100, 3200, 3400, 3500, 3700, 3800, 4100],\n",
        "    'price': [560000, 570000, 600000, 610000, 635000, 700000, 730000, 800000, 812000, 901000]\n",
        "}\n",
        "\n",
        "# Tạo DataFrame\n",
        "df = pd.DataFrame(data)\n",
        "\n",
        "# Đường dẫn đến file CSV\n",
        "file_path = '/content/drive/MyDrive/ML/HousePrice.csv'\n",
        "\n",
        "# Lưu DataFrame vào file CSV\n",
        "df.to_csv(file_path, index=False)\n",
        "\n",
        "# Hiển thị DataFrame\n",
        "print(\"DataFrame:\")\n",
        "print(df)\n",
        "print(\"Đã lưu vào file HousePrice.csv tại đường dẫn:\", file_path)\n"
      ],
      "metadata": {
        "colab": {
          "base_uri": "https://localhost:8080/"
        },
        "id": "FFGMr19FfzE9",
        "outputId": "a6f10685-bef2-47b2-d4c1-a28569c56702"
      },
      "execution_count": null,
      "outputs": [
        {
          "output_type": "stream",
          "name": "stdout",
          "text": [
            "DataFrame:\n",
            "   area   price\n",
            "0  2700  560000\n",
            "1  2800  570000\n",
            "2  3000  600000\n",
            "3  3100  610000\n",
            "4  3200  635000\n",
            "5  3400  700000\n",
            "6  3500  730000\n",
            "7  3700  800000\n",
            "8  3800  812000\n",
            "9  4100  901000\n",
            "Đã lưu vào file HousePrice.csv tại đường dẫn: /content/drive/MyDrive/ML/HousePrice.csv\n"
          ]
        }
      ]
    },
    {
      "cell_type": "code",
      "source": [
        "data_frame = pd.read_csv('/content/drive/MyDrive/ML/HousePrice.csv')\n",
        "data_frame"
      ],
      "metadata": {
        "colab": {
          "base_uri": "https://localhost:8080/",
          "height": 363
        },
        "id": "ZjagXvGTdiO9",
        "outputId": "2e442aeb-16ec-42ed-e597-79e36b814da5"
      },
      "execution_count": null,
      "outputs": [
        {
          "output_type": "execute_result",
          "data": {
            "text/plain": [
              "   area   price\n",
              "0  2700  560000\n",
              "1  2800  570000\n",
              "2  3000  600000\n",
              "3  3100  610000\n",
              "4  3200  635000\n",
              "5  3400  700000\n",
              "6  3500  730000\n",
              "7  3700  800000\n",
              "8  3800  812000\n",
              "9  4100  901000"
            ],
            "text/html": [
              "\n",
              "  <div id=\"df-dff898d0-b689-4e3a-bcc9-914fe652a71f\" class=\"colab-df-container\">\n",
              "    <div>\n",
              "<style scoped>\n",
              "    .dataframe tbody tr th:only-of-type {\n",
              "        vertical-align: middle;\n",
              "    }\n",
              "\n",
              "    .dataframe tbody tr th {\n",
              "        vertical-align: top;\n",
              "    }\n",
              "\n",
              "    .dataframe thead th {\n",
              "        text-align: right;\n",
              "    }\n",
              "</style>\n",
              "<table border=\"1\" class=\"dataframe\">\n",
              "  <thead>\n",
              "    <tr style=\"text-align: right;\">\n",
              "      <th></th>\n",
              "      <th>area</th>\n",
              "      <th>price</th>\n",
              "    </tr>\n",
              "  </thead>\n",
              "  <tbody>\n",
              "    <tr>\n",
              "      <th>0</th>\n",
              "      <td>2700</td>\n",
              "      <td>560000</td>\n",
              "    </tr>\n",
              "    <tr>\n",
              "      <th>1</th>\n",
              "      <td>2800</td>\n",
              "      <td>570000</td>\n",
              "    </tr>\n",
              "    <tr>\n",
              "      <th>2</th>\n",
              "      <td>3000</td>\n",
              "      <td>600000</td>\n",
              "    </tr>\n",
              "    <tr>\n",
              "      <th>3</th>\n",
              "      <td>3100</td>\n",
              "      <td>610000</td>\n",
              "    </tr>\n",
              "    <tr>\n",
              "      <th>4</th>\n",
              "      <td>3200</td>\n",
              "      <td>635000</td>\n",
              "    </tr>\n",
              "    <tr>\n",
              "      <th>5</th>\n",
              "      <td>3400</td>\n",
              "      <td>700000</td>\n",
              "    </tr>\n",
              "    <tr>\n",
              "      <th>6</th>\n",
              "      <td>3500</td>\n",
              "      <td>730000</td>\n",
              "    </tr>\n",
              "    <tr>\n",
              "      <th>7</th>\n",
              "      <td>3700</td>\n",
              "      <td>800000</td>\n",
              "    </tr>\n",
              "    <tr>\n",
              "      <th>8</th>\n",
              "      <td>3800</td>\n",
              "      <td>812000</td>\n",
              "    </tr>\n",
              "    <tr>\n",
              "      <th>9</th>\n",
              "      <td>4100</td>\n",
              "      <td>901000</td>\n",
              "    </tr>\n",
              "  </tbody>\n",
              "</table>\n",
              "</div>\n",
              "    <div class=\"colab-df-buttons\">\n",
              "\n",
              "  <div class=\"colab-df-container\">\n",
              "    <button class=\"colab-df-convert\" onclick=\"convertToInteractive('df-dff898d0-b689-4e3a-bcc9-914fe652a71f')\"\n",
              "            title=\"Convert this dataframe to an interactive table.\"\n",
              "            style=\"display:none;\">\n",
              "\n",
              "  <svg xmlns=\"http://www.w3.org/2000/svg\" height=\"24px\" viewBox=\"0 -960 960 960\">\n",
              "    <path d=\"M120-120v-720h720v720H120Zm60-500h600v-160H180v160Zm220 220h160v-160H400v160Zm0 220h160v-160H400v160ZM180-400h160v-160H180v160Zm440 0h160v-160H620v160ZM180-180h160v-160H180v160Zm440 0h160v-160H620v160Z\"/>\n",
              "  </svg>\n",
              "    </button>\n",
              "\n",
              "  <style>\n",
              "    .colab-df-container {\n",
              "      display:flex;\n",
              "      gap: 12px;\n",
              "    }\n",
              "\n",
              "    .colab-df-convert {\n",
              "      background-color: #E8F0FE;\n",
              "      border: none;\n",
              "      border-radius: 50%;\n",
              "      cursor: pointer;\n",
              "      display: none;\n",
              "      fill: #1967D2;\n",
              "      height: 32px;\n",
              "      padding: 0 0 0 0;\n",
              "      width: 32px;\n",
              "    }\n",
              "\n",
              "    .colab-df-convert:hover {\n",
              "      background-color: #E2EBFA;\n",
              "      box-shadow: 0px 1px 2px rgba(60, 64, 67, 0.3), 0px 1px 3px 1px rgba(60, 64, 67, 0.15);\n",
              "      fill: #174EA6;\n",
              "    }\n",
              "\n",
              "    .colab-df-buttons div {\n",
              "      margin-bottom: 4px;\n",
              "    }\n",
              "\n",
              "    [theme=dark] .colab-df-convert {\n",
              "      background-color: #3B4455;\n",
              "      fill: #D2E3FC;\n",
              "    }\n",
              "\n",
              "    [theme=dark] .colab-df-convert:hover {\n",
              "      background-color: #434B5C;\n",
              "      box-shadow: 0px 1px 3px 1px rgba(0, 0, 0, 0.15);\n",
              "      filter: drop-shadow(0px 1px 2px rgba(0, 0, 0, 0.3));\n",
              "      fill: #FFFFFF;\n",
              "    }\n",
              "  </style>\n",
              "\n",
              "    <script>\n",
              "      const buttonEl =\n",
              "        document.querySelector('#df-dff898d0-b689-4e3a-bcc9-914fe652a71f button.colab-df-convert');\n",
              "      buttonEl.style.display =\n",
              "        google.colab.kernel.accessAllowed ? 'block' : 'none';\n",
              "\n",
              "      async function convertToInteractive(key) {\n",
              "        const element = document.querySelector('#df-dff898d0-b689-4e3a-bcc9-914fe652a71f');\n",
              "        const dataTable =\n",
              "          await google.colab.kernel.invokeFunction('convertToInteractive',\n",
              "                                                    [key], {});\n",
              "        if (!dataTable) return;\n",
              "\n",
              "        const docLinkHtml = 'Like what you see? Visit the ' +\n",
              "          '<a target=\"_blank\" href=https://colab.research.google.com/notebooks/data_table.ipynb>data table notebook</a>'\n",
              "          + ' to learn more about interactive tables.';\n",
              "        element.innerHTML = '';\n",
              "        dataTable['output_type'] = 'display_data';\n",
              "        await google.colab.output.renderOutput(dataTable, element);\n",
              "        const docLink = document.createElement('div');\n",
              "        docLink.innerHTML = docLinkHtml;\n",
              "        element.appendChild(docLink);\n",
              "      }\n",
              "    </script>\n",
              "  </div>\n",
              "\n",
              "\n",
              "<div id=\"df-8d9dd5a9-3cce-42c2-aa2c-79f53b558d22\">\n",
              "  <button class=\"colab-df-quickchart\" onclick=\"quickchart('df-8d9dd5a9-3cce-42c2-aa2c-79f53b558d22')\"\n",
              "            title=\"Suggest charts\"\n",
              "            style=\"display:none;\">\n",
              "\n",
              "<svg xmlns=\"http://www.w3.org/2000/svg\" height=\"24px\"viewBox=\"0 0 24 24\"\n",
              "     width=\"24px\">\n",
              "    <g>\n",
              "        <path d=\"M19 3H5c-1.1 0-2 .9-2 2v14c0 1.1.9 2 2 2h14c1.1 0 2-.9 2-2V5c0-1.1-.9-2-2-2zM9 17H7v-7h2v7zm4 0h-2V7h2v10zm4 0h-2v-4h2v4z\"/>\n",
              "    </g>\n",
              "</svg>\n",
              "  </button>\n",
              "\n",
              "<style>\n",
              "  .colab-df-quickchart {\n",
              "      --bg-color: #E8F0FE;\n",
              "      --fill-color: #1967D2;\n",
              "      --hover-bg-color: #E2EBFA;\n",
              "      --hover-fill-color: #174EA6;\n",
              "      --disabled-fill-color: #AAA;\n",
              "      --disabled-bg-color: #DDD;\n",
              "  }\n",
              "\n",
              "  [theme=dark] .colab-df-quickchart {\n",
              "      --bg-color: #3B4455;\n",
              "      --fill-color: #D2E3FC;\n",
              "      --hover-bg-color: #434B5C;\n",
              "      --hover-fill-color: #FFFFFF;\n",
              "      --disabled-bg-color: #3B4455;\n",
              "      --disabled-fill-color: #666;\n",
              "  }\n",
              "\n",
              "  .colab-df-quickchart {\n",
              "    background-color: var(--bg-color);\n",
              "    border: none;\n",
              "    border-radius: 50%;\n",
              "    cursor: pointer;\n",
              "    display: none;\n",
              "    fill: var(--fill-color);\n",
              "    height: 32px;\n",
              "    padding: 0;\n",
              "    width: 32px;\n",
              "  }\n",
              "\n",
              "  .colab-df-quickchart:hover {\n",
              "    background-color: var(--hover-bg-color);\n",
              "    box-shadow: 0 1px 2px rgba(60, 64, 67, 0.3), 0 1px 3px 1px rgba(60, 64, 67, 0.15);\n",
              "    fill: var(--button-hover-fill-color);\n",
              "  }\n",
              "\n",
              "  .colab-df-quickchart-complete:disabled,\n",
              "  .colab-df-quickchart-complete:disabled:hover {\n",
              "    background-color: var(--disabled-bg-color);\n",
              "    fill: var(--disabled-fill-color);\n",
              "    box-shadow: none;\n",
              "  }\n",
              "\n",
              "  .colab-df-spinner {\n",
              "    border: 2px solid var(--fill-color);\n",
              "    border-color: transparent;\n",
              "    border-bottom-color: var(--fill-color);\n",
              "    animation:\n",
              "      spin 1s steps(1) infinite;\n",
              "  }\n",
              "\n",
              "  @keyframes spin {\n",
              "    0% {\n",
              "      border-color: transparent;\n",
              "      border-bottom-color: var(--fill-color);\n",
              "      border-left-color: var(--fill-color);\n",
              "    }\n",
              "    20% {\n",
              "      border-color: transparent;\n",
              "      border-left-color: var(--fill-color);\n",
              "      border-top-color: var(--fill-color);\n",
              "    }\n",
              "    30% {\n",
              "      border-color: transparent;\n",
              "      border-left-color: var(--fill-color);\n",
              "      border-top-color: var(--fill-color);\n",
              "      border-right-color: var(--fill-color);\n",
              "    }\n",
              "    40% {\n",
              "      border-color: transparent;\n",
              "      border-right-color: var(--fill-color);\n",
              "      border-top-color: var(--fill-color);\n",
              "    }\n",
              "    60% {\n",
              "      border-color: transparent;\n",
              "      border-right-color: var(--fill-color);\n",
              "    }\n",
              "    80% {\n",
              "      border-color: transparent;\n",
              "      border-right-color: var(--fill-color);\n",
              "      border-bottom-color: var(--fill-color);\n",
              "    }\n",
              "    90% {\n",
              "      border-color: transparent;\n",
              "      border-bottom-color: var(--fill-color);\n",
              "    }\n",
              "  }\n",
              "</style>\n",
              "\n",
              "  <script>\n",
              "    async function quickchart(key) {\n",
              "      const quickchartButtonEl =\n",
              "        document.querySelector('#' + key + ' button');\n",
              "      quickchartButtonEl.disabled = true;  // To prevent multiple clicks.\n",
              "      quickchartButtonEl.classList.add('colab-df-spinner');\n",
              "      try {\n",
              "        const charts = await google.colab.kernel.invokeFunction(\n",
              "            'suggestCharts', [key], {});\n",
              "      } catch (error) {\n",
              "        console.error('Error during call to suggestCharts:', error);\n",
              "      }\n",
              "      quickchartButtonEl.classList.remove('colab-df-spinner');\n",
              "      quickchartButtonEl.classList.add('colab-df-quickchart-complete');\n",
              "    }\n",
              "    (() => {\n",
              "      let quickchartButtonEl =\n",
              "        document.querySelector('#df-8d9dd5a9-3cce-42c2-aa2c-79f53b558d22 button');\n",
              "      quickchartButtonEl.style.display =\n",
              "        google.colab.kernel.accessAllowed ? 'block' : 'none';\n",
              "    })();\n",
              "  </script>\n",
              "</div>\n",
              "\n",
              "  <div id=\"id_c65eb638-954f-48e1-82c2-9512ae2c4eaa\">\n",
              "    <style>\n",
              "      .colab-df-generate {\n",
              "        background-color: #E8F0FE;\n",
              "        border: none;\n",
              "        border-radius: 50%;\n",
              "        cursor: pointer;\n",
              "        display: none;\n",
              "        fill: #1967D2;\n",
              "        height: 32px;\n",
              "        padding: 0 0 0 0;\n",
              "        width: 32px;\n",
              "      }\n",
              "\n",
              "      .colab-df-generate:hover {\n",
              "        background-color: #E2EBFA;\n",
              "        box-shadow: 0px 1px 2px rgba(60, 64, 67, 0.3), 0px 1px 3px 1px rgba(60, 64, 67, 0.15);\n",
              "        fill: #174EA6;\n",
              "      }\n",
              "\n",
              "      [theme=dark] .colab-df-generate {\n",
              "        background-color: #3B4455;\n",
              "        fill: #D2E3FC;\n",
              "      }\n",
              "\n",
              "      [theme=dark] .colab-df-generate:hover {\n",
              "        background-color: #434B5C;\n",
              "        box-shadow: 0px 1px 3px 1px rgba(0, 0, 0, 0.15);\n",
              "        filter: drop-shadow(0px 1px 2px rgba(0, 0, 0, 0.3));\n",
              "        fill: #FFFFFF;\n",
              "      }\n",
              "    </style>\n",
              "    <button class=\"colab-df-generate\" onclick=\"generateWithVariable('data_frame')\"\n",
              "            title=\"Generate code using this dataframe.\"\n",
              "            style=\"display:none;\">\n",
              "\n",
              "  <svg xmlns=\"http://www.w3.org/2000/svg\" height=\"24px\"viewBox=\"0 0 24 24\"\n",
              "       width=\"24px\">\n",
              "    <path d=\"M7,19H8.4L18.45,9,17,7.55,7,17.6ZM5,21V16.75L18.45,3.32a2,2,0,0,1,2.83,0l1.4,1.43a1.91,1.91,0,0,1,.58,1.4,1.91,1.91,0,0,1-.58,1.4L9.25,21ZM18.45,9,17,7.55Zm-12,3A5.31,5.31,0,0,0,4.9,8.1,5.31,5.31,0,0,0,1,6.5,5.31,5.31,0,0,0,4.9,4.9,5.31,5.31,0,0,0,6.5,1,5.31,5.31,0,0,0,8.1,4.9,5.31,5.31,0,0,0,12,6.5,5.46,5.46,0,0,0,6.5,12Z\"/>\n",
              "  </svg>\n",
              "    </button>\n",
              "    <script>\n",
              "      (() => {\n",
              "      const buttonEl =\n",
              "        document.querySelector('#id_c65eb638-954f-48e1-82c2-9512ae2c4eaa button.colab-df-generate');\n",
              "      buttonEl.style.display =\n",
              "        google.colab.kernel.accessAllowed ? 'block' : 'none';\n",
              "\n",
              "      buttonEl.onclick = () => {\n",
              "        google.colab.notebook.generateWithVariable('data_frame');\n",
              "      }\n",
              "      })();\n",
              "    </script>\n",
              "  </div>\n",
              "\n",
              "    </div>\n",
              "  </div>\n"
            ],
            "application/vnd.google.colaboratory.intrinsic+json": {
              "type": "dataframe",
              "variable_name": "data_frame",
              "summary": "{\n  \"name\": \"data_frame\",\n  \"rows\": 10,\n  \"fields\": [\n    {\n      \"column\": \"area\",\n      \"properties\": {\n        \"dtype\": \"number\",\n        \"std\": 452,\n        \"min\": 2700,\n        \"max\": 4100,\n        \"num_unique_values\": 10,\n        \"samples\": [\n          3800,\n          2800,\n          3400\n        ],\n        \"semantic_type\": \"\",\n        \"description\": \"\"\n      }\n    },\n    {\n      \"column\": \"price\",\n      \"properties\": {\n        \"dtype\": \"number\",\n        \"std\": 116427,\n        \"min\": 560000,\n        \"max\": 901000,\n        \"num_unique_values\": 10,\n        \"samples\": [\n          812000,\n          570000,\n          700000\n        ],\n        \"semantic_type\": \"\",\n        \"description\": \"\"\n      }\n    }\n  ]\n}"
            }
          },
          "metadata": {},
          "execution_count": 9
        }
      ]
    },
    {
      "cell_type": "code",
      "source": [
        "data_frame['area']\n",
        "data_frame['price']\n"
      ],
      "metadata": {
        "colab": {
          "base_uri": "https://localhost:8080/"
        },
        "id": "dhrlRwehgctr",
        "outputId": "7dd47901-66b0-442e-ad07-292309c0a836"
      },
      "execution_count": null,
      "outputs": [
        {
          "output_type": "execute_result",
          "data": {
            "text/plain": [
              "0    560000\n",
              "1    570000\n",
              "2    600000\n",
              "3    610000\n",
              "4    635000\n",
              "5    700000\n",
              "6    730000\n",
              "7    800000\n",
              "8    812000\n",
              "9    901000\n",
              "Name: price, dtype: int64"
            ]
          },
          "metadata": {},
          "execution_count": 10
        }
      ]
    },
    {
      "cell_type": "code",
      "source": [
        "import matplotlib.pyplot as plt\n",
        "\n",
        "# Vẽ biểu đồ scatter plot\n",
        "plt.scatter(data_frame['area'], data_frame['price'], color='black', marker='+')"
      ],
      "metadata": {
        "colab": {
          "base_uri": "https://localhost:8080/",
          "height": 448
        },
        "id": "-5Fz6HzKg9k0",
        "outputId": "5bea6c27-ccbb-4ad3-a977-2f47ccd0c693"
      },
      "execution_count": null,
      "outputs": [
        {
          "output_type": "execute_result",
          "data": {
            "text/plain": [
              "<matplotlib.collections.PathCollection at 0x7ce223d4a710>"
            ]
          },
          "metadata": {},
          "execution_count": 11
        },
        {
          "output_type": "display_data",
          "data": {
            "text/plain": [
              "<Figure size 640x480 with 1 Axes>"
            ],
            "image/png": "[encoded data removed]"
          },
          "metadata": {}
        }
      ]
    },
    {
      "cell_type": "code",
      "source": [
        "from sklearn.linear_model import LinearRegression\n",
        "\n",
        "# Khởi tạo mô hình hồi quy tuyến tính\n",
        "linear_regression = LinearRegression()\n",
        "\n",
        "# Huấn luyện mô hình\n",
        "linear_regression.fit(data_frame[['area']], data_frame['price'])\n",
        "\n",
        "# Dự đoán giá nhà có diện tích 3900\n",
        "predicted_price = linear_regression.predict([[3900]])\n",
        "\n",
        "# Hiển thị kết quả\n",
        "print(predicted_price[0])\n"
      ],
      "metadata": {
        "colab": {
          "base_uri": "https://localhost:8080/"
        },
        "id": "s4YMq99ehWxK",
        "outputId": "391ce919-c6aa-4cd3-a1f7-590fc205ce2d"
      },
      "execution_count": null,
      "outputs": [
        {
          "output_type": "stream",
          "name": "stdout",
          "text": [
            "836934.8180336774\n"
          ]
        },
        {
          "output_type": "stream",
          "name": "stderr",
          "text": [
            "/usr/local/lib/python3.10/dist-packages/sklearn/base.py:439: UserWarning: X does not have valid feature names, but LinearRegression was fitted with feature names\n",
            "  warnings.warn(\n"
          ]
        }
      ]
    },
    {
      "cell_type": "code",
      "source": [
        "# Tính toán để dự đoán đường vẽ ra biểu đồ\n",
        "m = linear_regression.coef_\n",
        "b = linear_regression.intercept_\n",
        "y_predict = m * 3900 + b\n",
        "\n",
        "\n",
        "plt.xlabel(\"house's area\", fontsize=20)\n",
        "plt.ylabel(\"price\", fontsize=20)\n",
        "plt.scatter(data_frame['area'], data_frame['price'], color='green', marker='+')\n",
        "plt.plot(data_frame['area'], m * data_frame['area'] + b, color='red')\n",
        "\n",
        "\n",
        "# Hiển thị biểu đồ\n",
        "plt.show()\n"
      ],
      "metadata": {
        "colab": {
          "base_uri": "https://localhost:8080/",
          "height": 463
        },
        "id": "pc5d0KCCiBnL",
        "outputId": "dbc6edcd-2cd1-4aa9-ed38-0486d8673729"
      },
      "execution_count": null,
      "outputs": [
        {
          "output_type": "display_data",
          "data": {
            "text/plain": [
              "<Figure size 640x480 with 1 Axes>"
            ],
            "image/png": "[encoded data removed]"
          },
          "metadata": {}
        }
      ]
    },
    {
      "cell_type": "code",
      "source": [
        "plt.xlabel(\"house's area\", fontsize=50)\n",
        "plt.ylabel(\"price\", fontsize=50)\n",
        "plt.scatter(data_frame['area'], data_frame['price'], color='purple', marker='o', s=200)\n",
        "plt.plot(data_frame['area'], m * data_frame['area'] + b, color='pink', linewidth=3)\n",
        "plt.show()\n"
      ],
      "metadata": {
        "colab": {
          "base_uri": "https://localhost:8080/",
          "height": 502
        },
        "id": "cYAbbuu5pvgY",
        "outputId": "10572bca-eeb3-480a-afe8-a2896f718a87"
      },
      "execution_count": null,
      "outputs": [
        {
          "output_type": "display_data",
          "data": {
            "text/plain": [
              "<Figure size 640x480 with 1 Axes>"
            ],
            "image/png": "[encoded data removed]"
          },
          "metadata": {}
        }
      ]
    },
    {
      "cell_type": "code",
      "source": [
        "import pandas as pd\n",
        "# Dữ liệu\n",
        "data = {\n",
        "    'ID Student': [1, 2, 3, 4, 5, 6, 7, 8, 9, 10, 11, 12, 13, 14, 15, 16, 17, 18, 19, 20],\n",
        "    'Hour': [5, 10, 5, 3, 8, 5, 8, 5, 1, 6, 4, 11, 7, 2, 5, 5, 6, 6, 9, 7],\n",
        "    'Score': [70, 93, 69, 74, 88, 69, 79, 80, 55, 68, 50, 97, 78, 70, 73, 60, 61, 67, 90, 71]\n",
        "}\n",
        "\n",
        "# Tạo DataFrame\n",
        "df = pd.DataFrame(data)\n",
        "\n",
        "# Đường dẫn đến file CSV\n",
        "file_path = '/content/drive/MyDrive/ML/Studen.csv'\n",
        "\n",
        "# Lưu DataFrame vào file CSV\n",
        "df.to_csv(file_path, index=False)\n",
        "\n",
        "# Hiển thị DataFrame\n",
        "print(\"DataFrame:\")\n",
        "print(df)\n",
        "print(\"Đã lưu vào file HousePrice.csv tại đường dẫn:\", file_path)\n"
      ],
      "metadata": {
        "colab": {
          "base_uri": "https://localhost:8080/"
        },
        "id": "qK3Qid73u-kG",
        "outputId": "1b027bde-e2d4-42f0-97d1-e4e666049bd2"
      },
      "execution_count": null,
      "outputs": [
        {
          "output_type": "stream",
          "name": "stdout",
          "text": [
            "DataFrame:\n",
            "    ID Student  Hour  Score\n",
            "0            1     5     70\n",
            "1            2    10     93\n",
            "2            3     5     69\n",
            "3            4     3     74\n",
            "4            5     8     88\n",
            "5            6     5     69\n",
            "6            7     8     79\n",
            "7            8     5     80\n",
            "8            9     1     55\n",
            "9           10     6     68\n",
            "10          11     4     50\n",
            "11          12    11     97\n",
            "12          13     7     78\n",
            "13          14     2     70\n",
            "14          15     5     73\n",
            "15          16     5     60\n",
            "16          17     6     61\n",
            "17          18     6     67\n",
            "18          19     9     90\n",
            "19          20     7     71\n",
            "Đã lưu vào file HousePrice.csv tại đường dẫn: /content/drive/MyDrive/ML/Studen.csv\n"
          ]
        }
      ]
    },
    {
      "cell_type": "code",
      "source": [
        "import pandas as pd\n",
        "from sklearn.linear_model import LinearRegression\n",
        "\n",
        "# Đọc dữ liệu từ file CSV\n",
        "df = pd.read_csv('/content/drive/MyDrive/ML/Studen.csv')\n",
        "\n",
        "# Tạo mô hình hồi quy tuyến tính\n",
        "linear_regression = LinearRegression()\n",
        "\n",
        "# Huấn luyện mô hình\n",
        "linear_regression.fit(df[['Hour']], df['Score'])\n",
        "\n",
        "# Dự đoán điểm số cho số giờ là 7\n",
        "hours_to_predict = 7\n",
        "predicted_score = linear_regression.predict([[hours_to_predict]])\n",
        "print(\"Điểm số dự đoán cho số giờ\", hours_to_predict, \"là:\", predicted_score[0])\n"
      ],
      "metadata": {
        "colab": {
          "base_uri": "https://localhost:8080/"
        },
        "id": "3kV5wY6jxyYO",
        "outputId": "52bb1479-82b2-47d1-dba7-c85ab2c94221"
      },
      "execution_count": null,
      "outputs": [
        {
          "output_type": "stream",
          "name": "stdout",
          "text": [
            "Điểm số dự đoán cho số giờ 7 là: 77.30717863105176\n"
          ]
        },
        {
          "output_type": "stream",
          "name": "stderr",
          "text": [
            "/usr/local/lib/python3.10/dist-packages/sklearn/base.py:439: UserWarning: X does not have valid feature names, but LinearRegression was fitted with feature names\n",
            "  warnings.warn(\n"
          ]
        }
      ]
    },
    {
      "cell_type": "code",
      "source": [
        "import matplotlib.pyplot as plt\n",
        "\n",
        "# Đọc dữ liệu từ file CSV\n",
        "df = pd.read_csv('/content/drive/MyDrive/ML/Studen.csv')\n",
        "\n",
        "# Đặt tiêu đề và nhãn cho trục\n",
        "plt.xlabel(\"Số giờ học\", fontsize=12)\n",
        "plt.ylabel(\"Điểm số\", fontsize=12)\n",
        "\n",
        "# Vẽ biểu đồ scatter plot\n",
        "plt.scatter(df['Hour'], df['Score'], color='blue', label='Dữ liệu')\n",
        "\n",
        "# Tạo mô hình hồi quy tuyến tính\n",
        "linear_regression = LinearRegression()\n",
        "linear_regression.fit(df[['Hour']], df['Score'])\n",
        "\n",
        "# Vẽ đường hồi quy\n",
        "plt.plot(df['Hour'], linear_regression.predict(df[['Hour']]), color='red', label='Đường hồi quy')\n",
        "\n",
        "# Hiển thị chú thích\n",
        "plt.legend()\n",
        "\n",
        "# Hiển thị biểu đồ\n",
        "plt.show()\n"
      ],
      "metadata": {
        "colab": {
          "base_uri": "https://localhost:8080/",
          "height": 455
        },
        "id": "wKdEYotMz5nd",
        "outputId": "823e6971-869d-4a27-fe87-1cbe5cb1d3bf"
      },
      "execution_count": null,
      "outputs": [
        {
          "output_type": "display_data",
          "data": {
            "text/plain": [
              "<Figure size 640x480 with 1 Axes>"
            ],
            "image/png": "[encoded data removed]"
          },
          "metadata": {}
        }
      ]
    },
    {
      "cell_type": "code",
      "source": [
        "import pandas as pd\n",
        "\n",
        "data1 = {\n",
        "    'Age': [1, 2, 3, 4, 5, 6, 1, 2, 3, 4, 5, 6, 1, 2, 3],\n",
        "    'Weight': [9, 8, 12, 16, 18, 18, 12, 13, 14, 16,18,20, 10, 11, 14]\n",
        "}\n",
        "\n",
        "data2 = {\n",
        "    'Age': [4, 5, 6, 1, 2, 3, 4, 5, 6, 1, 2, 3, 4, 5, 6,],\n",
        "    'Weight': [17, 18, 19, 10, 11, 15, 16,13,21, 11, 10, 14, 16, 18, 21]\n",
        "}\n",
        "\n",
        "# Convert dictionaries to DataFrames\n",
        "df1 = pd.DataFrame(data1)\n",
        "df2 = pd.DataFrame(data2)\n",
        "\n",
        "# Concatenate the two DataFrames\n",
        "combined_df = pd.concat([df1, df2], ignore_index=True)\n",
        "\n",
        "# Save the combined DataFrame to a CSV file\n",
        "combined_df.to_csv('/content/drive/MyDrive/ML/tbTuoicn.csv', index=False)\n",
        "# Hiển thị DataFrame\n",
        "print(\"DataFrame:\")\n",
        "print(df)\n",
        "print(\"Đã lưu vào file HousePrice.csv tại đường dẫn:\", file_path)\n"
      ],
      "metadata": {
        "colab": {
          "base_uri": "https://localhost:8080/"
        },
        "id": "YFi4z42Q7bt6",
        "outputId": "e1a78b0d-38c4-4ea9-a7d1-7f352c3c78e8"
      },
      "execution_count": null,
      "outputs": [
        {
          "output_type": "stream",
          "name": "stdout",
          "text": [
            "DataFrame:\n",
            "    ID Student  Hour  Score\n",
            "0            1     5     70\n",
            "1            2    10     93\n",
            "2            3     5     69\n",
            "3            4     3     74\n",
            "4            5     8     88\n",
            "5            6     5     69\n",
            "6            7     8     79\n",
            "7            8     5     80\n",
            "8            9     1     55\n",
            "9           10     6     68\n",
            "10          11     4     50\n",
            "11          12    11     97\n",
            "12          13     7     78\n",
            "13          14     2     70\n",
            "14          15     5     73\n",
            "15          16     5     60\n",
            "16          17     6     61\n",
            "17          18     6     67\n",
            "18          19     9     90\n",
            "19          20     7     71\n",
            "Đã lưu vào file HousePrice.csv tại đường dẫn: /content/drive/MyDrive/ML/Studen.csv\n"
          ]
        }
      ]
    },
    {
      "cell_type": "code",
      "source": [
        "from sklearn.linear_model import LinearRegression\n",
        "\n",
        "# Tạo mô hình hồi quy tuyến tính\n",
        "linear_regression = LinearRegression()\n",
        "\n",
        "# Huấn luyện mô hình\n",
        "linear_regression.fit(combined_df[['Age']], combined_df['Weight'])\n",
        "\n",
        "# Dự đoán cân nặng cho tuổi là 7\n",
        "age_to_predict = 7\n",
        "predicted_weight = linear_regression.predict([[age_to_predict]])\n",
        "print(\"Cân nặng dự đoán cho tuổi\", age_to_predict, \"là:\", predicted_weight[0])\n"
      ],
      "metadata": {
        "colab": {
          "base_uri": "https://localhost:8080/"
        },
        "id": "GEyuNI9-9HkY",
        "outputId": "9e9a39d2-6303-4b0a-c67d-a2363ed065bb"
      },
      "execution_count": null,
      "outputs": [
        {
          "output_type": "stream",
          "name": "stdout",
          "text": [
            "Cân nặng dự đoán cho tuổi 7 là: 21.493333333333336\n"
          ]
        },
        {
          "output_type": "stream",
          "name": "stderr",
          "text": [
            "/usr/local/lib/python3.10/dist-packages/sklearn/base.py:439: UserWarning: X does not have valid feature names, but LinearRegression was fitted with feature names\n",
            "  warnings.warn(\n"
          ]
        }
      ]
    },
    {
      "cell_type": "code",
      "source": [
        "m = linear_regression.coef_[0]\n",
        "b = linear_regression.intercept_\n",
        "print(\"Giá trị của m:\", m)\n",
        "print(\"Giá trị của b:\", b)\n"
      ],
      "metadata": {
        "colab": {
          "base_uri": "https://localhost:8080/"
        },
        "id": "FOYGMXOh9N1v",
        "outputId": "7f503d3e-a883-4cea-ce2e-0d47c84b9ec7"
      },
      "execution_count": null,
      "outputs": [
        {
          "output_type": "stream",
          "name": "stdout",
          "text": [
            "Giá trị của m: 1.9600000000000009\n",
            "Giá trị của b: 7.77333333333333\n"
          ]
        }
      ]
    },
    {
      "cell_type": "code",
      "source": [
        "import matplotlib.pyplot as plt\n",
        "\n",
        "# Đặt tiêu đề và nhãn cho trục\n",
        "plt.xlabel(\"Tuổi\", fontsize=12)\n",
        "plt.ylabel(\"Cân nặng\", fontsize=12)\n",
        "\n",
        "# Vẽ biểu đồ scatter plot\n",
        "plt.scatter(combined_df['Age'], combined_df['Weight'], color='blue', label='Dữ liệu')\n",
        "\n",
        "# Vẽ đường hồi quy\n",
        "plt.plot(combined_df['Age'], linear_regression.predict(combined_df[['Age']]), color='red', label='Đường hồi quy')\n",
        "\n",
        "# Hiển thị chú thích\n",
        "plt.legend()\n",
        "\n",
        "# Hiển thị biểu đồ\n",
        "plt.show()\n"
      ],
      "metadata": {
        "colab": {
          "base_uri": "https://localhost:8080/",
          "height": 453
        },
        "id": "DYepnOTT9RTg",
        "outputId": "294f4623-e8e3-4591-96fb-ab6da59c6ed6"
      },
      "execution_count": null,
      "outputs": [
        {
          "output_type": "display_data",
          "data": {
            "text/plain": [
              "<Figure size 640x480 with 1 Axes>"
            ],
            "image/png": "[encoded data removed]"
          },
          "metadata": {}
        }
      ]
    },
    {
      "cell_type": "markdown",
      "source": [],
      "metadata": {
        "id": "8RCc96EHvr-Q"
      }
    }
  ]
}